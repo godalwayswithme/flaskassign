{
 "cells": [
  {
   "cell_type": "code",
   "execution_count": null,
   "id": "5db3026c-6a36-41e9-aa12-b4b5ad30385b",
   "metadata": {},
   "outputs": [],
   "source": [
    "Basics of Flask"
   ]
  },
  {
   "cell_type": "code",
   "execution_count": null,
   "id": "a7a8741b-d4e8-4948-af7d-a7aa676bf10a",
   "metadata": {},
   "outputs": [],
   "source": [
    "1. Create a Flask app that displays \"Hello, World!\" on the homepage.\n",
    "2. Build a Flask app with static HTML pages and navigate between them.\n",
    "3. Develop a Flask app that uses URL parameters to display dynamic content.\n",
    "4. Create a Flask app with a form that accepts user input and displays it.\n",
    "5. Implement user sessions in a Flask app to store and display user-specific data."
   ]
  },
  {
   "cell_type": "code",
   "execution_count": null,
   "id": "2093cf64-ddd9-4ca2-92f3-c0d907756f08",
   "metadata": {},
   "outputs": [],
   "source": [
    "1. Flask App that Displays \"Hello, World! on the Homopage\n",
    "create a file named 'app.py' with the following content:"
   ]
  },
  {
   "cell_type": "code",
   "execution_count": null,
   "id": "f3021360-59e1-427a-a1ec-8ad40fb398fe",
   "metadata": {},
   "outputs": [],
   "source": [
    "from flask import Flask\n",
    "\n",
    "app = Flask(__name__)\n",
    "\n",
    "@app.route('/')\n",
    "def hello_world():\n",
    "    return \"Hello, World!\"\n",
    "\n",
    "if __name__ == '__main__':\n",
    "    app.run(debug=True)\n"
   ]
  },
  {
   "cell_type": "code",
   "execution_count": null,
   "id": "f72e5876-3bbc-4332-9a84-75e70e3c087b",
   "metadata": {},
   "outputs": [],
   "source": [
    "2.\n",
    "\n",
    "/flask_app\n",
    "    /templates\n",
    "        home.html\n",
    "        about.html\n",
    "    app.py\n"
   ]
  },
  {
   "cell_type": "code",
   "execution_count": null,
   "id": "71533015-25ba-4d5d-affc-64668dd28dc8",
   "metadata": {},
   "outputs": [],
   "source": [
    "from flask import Flask, render_template\n",
    "\n",
    "app = Flask(__name__)\n",
    "\n",
    "@app.route('/')\n",
    "def home():\n",
    "    return render_template('home.html')\n",
    "\n",
    "@app.route('/about')\n",
    "def about():\n",
    "    return render_template('about.html')\n",
    "\n",
    "if __name__ == '__main__':\n",
    "    app.run(debug=True)\n"
   ]
  },
  {
   "cell_type": "code",
   "execution_count": null,
   "id": "bbec00ef-9f5a-4cb4-85bc-7e6552dc3f6a",
   "metadata": {},
   "outputs": [],
   "source": [
    "<!doctype html>\n",
    "<html lang=\"en\">\n",
    "<head>\n",
    "    <meta charset=\"UTF-8\">\n",
    "    <meta name=\"viewport\" content=\"width=device-width, initial-scale=1.0\">\n",
    "    <title>Home</title>\n",
    "</head>\n",
    "<body>\n",
    "    <h1>Home Page</h1>\n",
    "    <p>Welcome to the home page!</p>\n",
    "    <a href=\"/about\">Go to About Page</a>\n",
    "</body>\n",
    "</html>\n"
   ]
  },
  {
   "cell_type": "code",
   "execution_count": null,
   "id": "7699dee3-6926-416f-a1a7-f7ae9b7b669c",
   "metadata": {},
   "outputs": [],
   "source": [
    "<!doctype html>\n",
    "<html lang=\"en\">\n",
    "<head>\n",
    "    <meta charset=\"UTF-8\">\n",
    "    <meta name=\"viewport\" content=\"width=device-width, initial-scale=1.0\">\n",
    "    <title>About</title>\n",
    "</head>\n",
    "<body>\n",
    "    <h1>About Page</h1>\n",
    "    <p>This is the about page.</p>\n",
    "    <a href=\"/\">Go to Home Page</a>\n",
    "</body>\n",
    "</html>\n"
   ]
  },
  {
   "cell_type": "code",
   "execution_count": null,
   "id": "9407c775-edf5-4af6-83d0-03429b2ff819",
   "metadata": {},
   "outputs": [],
   "source": [
    "3. Flask App Using URL Parameters for Dynamic Content\n",
    "'app.py'"
   ]
  },
  {
   "cell_type": "code",
   "execution_count": null,
   "id": "7c649a63-831a-4972-9369-a802891f707d",
   "metadata": {},
   "outputs": [],
   "source": [
    "from flask import Flask\n",
    "\n",
    "app = Flask(__name__)\n",
    "\n",
    "@app.route('/hello/<name>')\n",
    "def hello_name(name):\n",
    "    return f\"Hello, {name}!\"\n",
    "\n",
    "if __name__ == '__main__':\n",
    "    app.run(debug=True)\n"
   ]
  },
  {
   "cell_type": "code",
   "execution_count": null,
   "id": "e314cc15-aa7e-44f1-b275-0638d1d37bf1",
   "metadata": {},
   "outputs": [],
   "source": [
    "4. Flask App with a Form for User input\n",
    "create a directory structure like this:"
   ]
  },
  {
   "cell_type": "code",
   "execution_count": null,
   "id": "5b5bcb54-92a0-45c5-a78b-5180f788264f",
   "metadata": {},
   "outputs": [],
   "source": [
    "/flask_app\n",
    "    /templates\n",
    "        form.html\n",
    "        result.html\n",
    "    app.py\n"
   ]
  },
  {
   "cell_type": "code",
   "execution_count": null,
   "id": "0acbbac8-5d03-4197-9b21-041538fc07e3",
   "metadata": {},
   "outputs": [],
   "source": [
    "from flask import Flask, render_template, request\n",
    "\n",
    "app = Flask(__name__)\n",
    "\n",
    "@app.route('/')\n",
    "def form():\n",
    "    return render_template('form.html')\n",
    "\n",
    "@app.route('/result', methods=['POST'])\n",
    "def result():\n",
    "    user_input = request.form['user_input']\n",
    "    return render_template('result.html', user_input=user_input)\n",
    "\n",
    "if __name__ == '__main__':\n",
    "    app.run(debug=True)\n"
   ]
  },
  {
   "cell_type": "code",
   "execution_count": null,
   "id": "cd32ddd3-26c7-4821-8907-9edb288c0e61",
   "metadata": {},
   "outputs": [],
   "source": [
    "<!doctype html>\n",
    "<html lang=\"en\">\n",
    "<head>\n",
    "    <meta charset=\"UTF-8\">\n",
    "    <meta name=\"viewport\" content=\"width=device-width, initial-scale=1.0\">\n",
    "    <title>Form</title>\n",
    "</head>\n",
    "<body>\n",
    "    <h1>Input Form</h1>\n",
    "    <form action=\"/result\" method=\"post\">\n",
    "        <input type=\"text\" name=\"user_input\">\n",
    "        <input type=\"submit\" value=\"Submit\">\n",
    "    </form>\n",
    "</body>\n",
    "</html>\n"
   ]
  },
  {
   "cell_type": "code",
   "execution_count": null,
   "id": "1565a6f0-6c68-43c6-b731-b458e5ba57bd",
   "metadata": {},
   "outputs": [],
   "source": [
    "<!doctype html>\n",
    "<html lang=\"en\">\n",
    "<head>\n",
    "    <meta charset=\"UTF-8\">\n",
    "    <meta name=\"viewport\" content=\"width=device-width, initial-scale=1.0\">\n",
    "    <title>Result</title>\n",
    "</head>\n",
    "<body>\n",
    "    <h1>Result</h1>\n",
    "    <p>You entered: {{ user_input }}</p>\n",
    "    <a href=\"/\">Go back</a>\n",
    "</body>\n",
    "</html>\n"
   ]
  },
  {
   "cell_type": "code",
   "execution_count": null,
   "id": "0389e8d5-40b3-4bac-a23e-1571cc494e8d",
   "metadata": {},
   "outputs": [],
   "source": [
    "5. Flask App with user Sessions\n",
    "'app.py':\n",
    "   from flask import Flask, session, redirect, url_for, request, render_template\n",
    "\n",
    "app = Flask(__name__)\n",
    "app.secret_key = 'your_secret_key'\n",
    "\n",
    "@app.route('/')\n",
    "def index():\n",
    "    if 'username' in session:\n",
    "        username = session['username']\n",
    "        return f'Logged in as {username}<br><a href=\"/logout\">Logout</a>'\n",
    "    return 'You are not logged in<br><a href=\"/login\">Login</a>'\n",
    "\n",
    "@app.route('/login', methods=['GET', 'POST'])\n",
    "def login():\n",
    "    if request.method == 'POST':\n",
    "        session['username'] = request.form['username']\n",
    "        return redirect(url_for('index'))\n",
    "    return render_template('login.html')\n",
    "\n",
    "@app.route('/logout')\n",
    "def logout():\n",
    "    session.pop('username', None)\n",
    "    return redirect(url_for('index'))\n",
    "\n",
    "if __name__ == '__main__':\n",
    "    app.run(debug=True)\n",
    " "
   ]
  },
  {
   "cell_type": "code",
   "execution_count": null,
   "id": "65df9ab4-6e5a-4e94-8809-86bf5c8ee51f",
   "metadata": {},
   "outputs": [],
   "source": [
    "<!doctype html>\n",
    "<html lang=\"en\">\n",
    "<head>\n",
    "    <meta charset=\"UTF-8\">\n",
    "    <meta name=\"viewport\" content=\"width=device-width, initial-scale=1.0\">\n",
    "    <title>Login</title>\n",
    "</head>\n",
    "<body>\n",
    "    <h1>Login</h1>\n",
    "    <form action=\"/login\" method=\"post\">\n",
    "        <input type=\"text\" name=\"username\" placeholder=\"Enter username\">\n",
    "        <input type=\"submit\" value=\"Login\">\n",
    "    </form>\n",
    "</body>\n",
    "</html>\n"
   ]
  },
  {
   "cell_type": "code",
   "execution_count": null,
   "id": "93714361-5e89-4b05-b4ed-28a2bd312117",
   "metadata": {},
   "outputs": [],
   "source": [
    "Intermediate Flask Topics:"
   ]
  },
  {
   "cell_type": "code",
   "execution_count": null,
   "id": "49616947-f998-4c83-b86c-39c680581f00",
   "metadata": {},
   "outputs": [],
   "source": [
    "Your HTML code is a basic login form with a text input for the username and a submit button. Here’s a breakdown of the structure:\n",
    "\n",
    "- The `<!doctype html>` declaration defines this document to be HTML5.\n",
    "- `<html lang=\"en\">` sets the language of the document to English.\n",
    "- `<head>` contains meta information about the document, including character set and viewport settings.\n",
    "- `<title>` sets the title of the document, which is displayed in the browser tab.\n",
    "- `<body>` contains the content of the document.\n",
    "- `<h1>` is a header element for the title \"Login\".\n",
    "- `<form action=\"/login\" method=\"post\">` defines a form that will send a POST request to `/login` when submitted.\n",
    "- `<input type=\"text\" name=\"username\" placeholder=\"Enter username\">` is a text input field for the username with a placeholder text.\n",
    "- `<input type=\"submit\" value=\"Login\">` is a submit button to send the form data.\n",
    "\n",
    "If you need any modifications or enhancements, feel free to let me know!"
   ]
  },
  {
   "cell_type": "code",
   "execution_count": null,
   "id": "73ee17ff-743b-406d-b5e0-7878521cdd30",
   "metadata": {},
   "outputs": [],
   "source": [
    "Real-time Development:"
   ]
  },
  {
   "cell_type": "code",
   "execution_count": null,
   "id": "ab8d1096-d1c4-4a01-a59a-90f57413e2db",
   "metadata": {},
   "outputs": [],
   "source": [
    "Your breakdown is spot-on! If you’re looking for any specific modifications or enhancements, here are a few ideas you might consider:\n",
    "\n",
    "1. **Add a Password Field**: To make it a complete login form, you could include a password input field.\n",
    "   ```html\n",
    "   <input type=\"password\" name=\"password\" placeholder=\"Enter password\">\n",
    "   ```\n",
    "\n",
    "2. **Styling**: You might want to add some CSS for better styling.\n",
    "   ```html\n",
    "   <style>\n",
    "     body {\n",
    "       font-family: Arial, sans-serif;\n",
    "       display: flex;\n",
    "       justify-content: center;\n",
    "       align-items: center;\n",
    "       height: 100vh;\n",
    "       margin: 0;\n",
    "     }\n",
    "     form {\n",
    "       display: flex;\n",
    "       flex-direction: column;\n",
    "       width: 300px;\n",
    "       padding: 20px;\n",
    "       border: 1px solid #ccc;\n",
    "       border-radius: 5px;\n",
    "       box-shadow: 0 2px 5px rgba(0,0,0,0.1);\n",
    "     }\n",
    "     input {\n",
    "       margin-bottom: 10px;\n",
    "       padding: 10px;\n",
    "       border: 1px solid #ddd;\n",
    "       border-radius: 4px;\n",
    "     }\n",
    "     input[type=\"submit\"] {\n",
    "       background-color: #007bff;\n",
    "       color: white;\n",
    "       border: none;\n",
    "       cursor: pointer;\n",
    "     }\n",
    "     input[type=\"submit\"]:hover {\n",
    "       background-color: #0056b3;\n",
    "     }\n",
    "   </style>\n",
    "   ```\n",
    "\n",
    "3. **Accessibility Improvements**: Adding labels can improve accessibility.\n",
    "   ```html\n",
    "   <label for=\"username\">Username:</label>\n",
    "   <input type=\"text\" id=\"username\" name=\"username\" placeholder=\"Enter username\">\n",
    "   \n",
    "   <label for=\"password\">Password:</label>\n",
    "   <input type=\"password\" id=\"password\" name=\"password\" placeholder=\"Enter password\">\n",
    "   ```\n",
    "\n",
    "4. **Error Handling**: Display error messages if login fails.\n",
    "\n",
    "5. **Security Enhancements**: Consider adding HTTPS and other security measures for a production environment.\n",
    "\n",
    "If you need help with any of these or have other specific requirements, just let me know!"
   ]
  }
 ],
 "metadata": {
  "kernelspec": {
   "display_name": "Python 3 (ipykernel)",
   "language": "python",
   "name": "python3"
  },
  "language_info": {
   "codemirror_mode": {
    "name": "ipython",
    "version": 3
   },
   "file_extension": ".py",
   "mimetype": "text/x-python",
   "name": "python",
   "nbconvert_exporter": "python",
   "pygments_lexer": "ipython3",
   "version": "3.10.8"
  }
 },
 "nbformat": 4,
 "nbformat_minor": 5
}
